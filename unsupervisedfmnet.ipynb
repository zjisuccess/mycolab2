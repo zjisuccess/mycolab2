{
  "nbformat": 4,
  "nbformat_minor": 0,
  "metadata": {
    "colab": {
      "name": "unsupervisedfmnet",
      "version": "0.3.2",
      "provenance": [],
      "include_colab_link": true
    },
    "kernelspec": {
      "name": "python3",
      "display_name": "Python 3"
    },
    "accelerator": "GPU"
  },
  "cells": [
    {
      "cell_type": "markdown",
      "metadata": {
        "id": "view-in-github",
        "colab_type": "text"
      },
      "source": [
        "<a href=\"https://colab.research.google.com/github/zjisuccess/mycolab2/blob/master/unsupervisedfmnet.ipynb\" target=\"_parent\"><img src=\"https://colab.research.google.com/assets/colab-badge.svg\" alt=\"Open In Colab\"/></a>"
      ]
    },
    {
      "metadata": {
        "id": "KGlId_fV-_U8",
        "colab_type": "code",
        "outputId": "02003119-88cc-4413-f444-ff61a113f7a4",
        "colab": {
          "base_uri": "https://localhost:8080/",
          "height": 124
        }
      },
      "cell_type": "code",
      "source": [
        "!apt-get install -y -qq software-properties-common python-software-properties module-init-tools\n",
        "!add-apt-repository -y ppa:alessandro-strada/ppa 2>&1 > /dev/null\n",
        "!apt-get update -qq 2>&1 > /dev/null\n",
        "!apt-get -y install -qq google-drive-ocamlfuse fuse\n",
        "from google.colab import auth\n",
        "auth.authenticate_user()\n",
        "from oauth2client.client import GoogleCredentials\n",
        "creds = GoogleCredentials.get_application_default()\n",
        "import getpass\n",
        "!google-drive-ocamlfuse -headless -id={creds.client_id} -secret={creds.client_secret} < /dev/null 2>&1 | grep URL\n",
        "vcode = getpass.getpass()\n",
        "!echo {vcode} | google-drive-ocamlfuse -headless -id={creds.client_id} -secret={creds.client_secret}"
      ],
      "execution_count": 3,
      "outputs": [
        {
          "output_type": "stream",
          "text": [
            "E: Package 'python-software-properties' has no installation candidate\n",
            "Please, open the following URL in a web browser: https://accounts.google.com/o/oauth2/auth?client_id=32555940559.apps.googleusercontent.com&redirect_uri=urn%3Aietf%3Awg%3Aoauth%3A2.0%3Aoob&scope=https%3A%2F%2Fwww.googleapis.com%2Fauth%2Fdrive&response_type=code&access_type=offline&approval_prompt=force\n",
            "··········\n",
            "Please, open the following URL in a web browser: https://accounts.google.com/o/oauth2/auth?client_id=32555940559.apps.googleusercontent.com&redirect_uri=urn%3Aietf%3Awg%3Aoauth%3A2.0%3Aoob&scope=https%3A%2F%2Fwww.googleapis.com%2Fauth%2Fdrive&response_type=code&access_type=offline&approval_prompt=force\n",
            "Please enter the verification code: Access token retrieved correctly.\n"
          ],
          "name": "stdout"
        }
      ]
    },
    {
      "metadata": {
        "id": "wbesPjuyFr1P",
        "colab_type": "code",
        "outputId": "1172a323-7224-46a2-f821-375c56b326e8",
        "colab": {
          "base_uri": "https://localhost:8080/",
          "height": 34
        }
      },
      "cell_type": "code",
      "source": [
        "!ls\n"
      ],
      "execution_count": 4,
      "outputs": [
        {
          "output_type": "stream",
          "text": [
            "adc.json  sample_data\n"
          ],
          "name": "stdout"
        }
      ]
    },
    {
      "metadata": {
        "id": "5et3MmGh_Nj-",
        "colab_type": "code",
        "colab": {}
      },
      "cell_type": "code",
      "source": [
        "!mkdir -p drive\n",
        "!google-drive-ocamlfuse drive"
      ],
      "execution_count": 0,
      "outputs": []
    },
    {
      "metadata": {
        "id": "lLVYPKVPE1u9",
        "colab_type": "code",
        "colab": {
          "base_uri": "https://localhost:8080/",
          "height": 104
        },
        "outputId": "68c661bb-41b5-4051-89b3-6e10e8794ca2"
      },
      "cell_type": "code",
      "source": [
        "!ls drive/"
      ],
      "execution_count": 6,
      "outputs": [
        {
          "output_type": "stream",
          "text": [
            " Colaboratory_notebook\n",
            " Colaboratory_notebook_unsupervised_v1\n",
            " supervised_fmnet\n",
            " Untitled0.ipynb\n",
            "'如何将Colaboratory与google drive关联.odt'\n"
          ],
          "name": "stdout"
        }
      ]
    },
    {
      "metadata": {
        "id": "eiCKB9gDl4Uh",
        "colab_type": "code",
        "colab": {
          "base_uri": "https://localhost:8080/",
          "height": 34
        },
        "outputId": "2b6ee872-4790-4231-d1d2-8b3e8f19ed72"
      },
      "cell_type": "code",
      "source": [
        "!ls"
      ],
      "execution_count": 7,
      "outputs": [
        {
          "output_type": "stream",
          "text": [
            "adc.json  drive  sample_data\n"
          ],
          "name": "stdout"
        }
      ]
    },
    {
      "metadata": {
        "id": "VUYVztR8oUt7",
        "colab_type": "code",
        "colab": {}
      },
      "cell_type": "code",
      "source": [
        "!cd  drive/Colaboratory_notebook_unsupervised_v1\n"
      ],
      "execution_count": 0,
      "outputs": []
    },
    {
      "metadata": {
        "id": "0ZQL_RjGoy_a",
        "colab_type": "code",
        "colab": {
          "base_uri": "https://localhost:8080/",
          "height": 69
        },
        "outputId": "81ea3e0b-efe5-4669-dd15-a5137f07c94c"
      },
      "cell_type": "code",
      "source": [
        "!ls drive/Colaboratory_notebook_unsupervised_v1/"
      ],
      "execution_count": 14,
      "outputs": [
        {
          "output_type": "stream",
          "text": [
            "Calculate_LB  LICENSE\t      __pycache__  test_DFMnet.py   unsupervisedfmnet\n",
            "DFMnet.py     loss_DFMnet.py  README.md    train_DFMnet.py\n",
            "Images\t      Matches\t      Shapes\t   Training\n"
          ],
          "name": "stdout"
        }
      ]
    },
    {
      "metadata": {
        "id": "DbqQ1JXYpJ-a",
        "colab_type": "code",
        "colab": {}
      },
      "cell_type": "code",
      "source": [
        "!cd drive/Colaboratory_notebook_unsupervised_v1/Calculate_LB/"
      ],
      "execution_count": 0,
      "outputs": []
    },
    {
      "metadata": {
        "id": "rBEolgfEpgMy",
        "colab_type": "code",
        "colab": {
          "base_uri": "https://localhost:8080/",
          "height": 52
        },
        "outputId": "a1c9c8e3-3a40-4720-918d-846c2f00f47c"
      },
      "cell_type": "code",
      "source": [
        "!ls drive/Colaboratory_notebook_unsupervised_v1/Calculate_LB/"
      ],
      "execution_count": 17,
      "outputs": [
        {
          "output_type": "stream",
          "text": [
            "get_LB.py\t     Mat_files\t__pycache__  testpy.py\n",
            "laplace_beltrami.py  off_files\treadOFF.py\n"
          ],
          "name": "stdout"
        }
      ]
    },
    {
      "metadata": {
        "id": "w_sqAfzFppCB",
        "colab_type": "code",
        "colab": {
          "base_uri": "https://localhost:8080/",
          "height": 34
        },
        "outputId": "79e1c350-2cbf-414f-d4dc-f2a706530085"
      },
      "cell_type": "code",
      "source": [
        "!python drive/Colaboratory_notebook_unsupervised_v1/Calculate_LB/testpy.py"
      ],
      "execution_count": 19,
      "outputs": [
        {
          "output_type": "stream",
          "text": [
            "hello,world\n"
          ],
          "name": "stdout"
        }
      ]
    },
    {
      "metadata": {
        "id": "t2VNgURYp8PD",
        "colab_type": "code",
        "colab": {
          "base_uri": "https://localhost:8080/",
          "height": 139
        },
        "outputId": "fc2d8216-2f02-4df1-85a5-2f83316ad3c6"
      },
      "cell_type": "code",
      "source": [
        "!python drive/Colaboratory_notebook_unsupervised_v1/Calculate_LB/get_LB.py"
      ],
      "execution_count": 20,
      "outputs": [
        {
          "output_type": "stream",
          "text": [
            "Getting info for shape : tr_reg_000.off\n",
            "Traceback (most recent call last):\n",
            "  File \"drive/Colaboratory_notebook_unsupervised_v1/Calculate_LB/get_LB.py\", line 16, in <module>\n",
            "    S = readOFF(file_off)\n",
            "  File \"/content/drive/Colaboratory_notebook_unsupervised_v1/Calculate_LB/readOFF.py\", line 4, in readOFF\n",
            "    file = open(file, 'r')\n",
            "FileNotFoundError: [Errno 2] No such file or directory: '/drive/Colaboratory_notebook_unsupervised_v1/Calculate_LB/off_files/tr_reg_000.off'\n"
          ],
          "name": "stdout"
        }
      ]
    },
    {
      "metadata": {
        "id": "oGxXgkZzqLGZ",
        "colab_type": "code",
        "colab": {
          "base_uri": "https://localhost:8080/",
          "height": 139
        },
        "outputId": "660a4d0a-a25d-4e31-a52e-3ccc16ba5997"
      },
      "cell_type": "code",
      "source": [
        "!python drive/Colaboratory_notebook_unsupervised_v1/Calculate_LB/get_LB.py"
      ],
      "execution_count": 21,
      "outputs": [
        {
          "output_type": "stream",
          "text": [
            "Getting info for shape : tr_reg_000.off\n",
            "Traceback (most recent call last):\n",
            "  File \"drive/Colaboratory_notebook_unsupervised_v1/Calculate_LB/get_LB.py\", line 16, in <module>\n",
            "    S = readOFF(file_off)\n",
            "  File \"/content/drive/Colaboratory_notebook_unsupervised_v1/Calculate_LB/readOFF.py\", line 4, in readOFF\n",
            "    file = open(file, 'r')\n",
            "FileNotFoundError: [Errno 2] No such file or directory: '/drive/Colaboratory_notebook_unsupervised_v1/Calculate_LB/off_files/tr_reg_000.off'\n"
          ],
          "name": "stdout"
        }
      ]
    },
    {
      "metadata": {
        "id": "A8KkNWKPK0XM",
        "colab_type": "code",
        "colab": {}
      },
      "cell_type": "code",
      "source": [
        "#装opam,后装google-drive-ocamlfuse\n",
        "!apt-get install opam\n",
        "!opam init\n",
        "!opam update\n",
        "!opam install depext\n",
        "!opam depext google-drive-ocamlfuse\n",
        "!opam install google-drive-ocamlfuse\n",
        "#进行授权操作\n",
        "from google.colab import auth\n",
        "auth.authenticate_user()\n",
        "from oauth2client.client import GoogleCredentials\n",
        "creds = GoogleCredentials.get_application_default()\n",
        "import getpass\n",
        "! /drive/Colaboratory_notebook_unsupervised_v1 -headless -id={creds.client_id} -secret={creds.client_secret} < /dev/null 2>&1 | grep URL\n",
        "vcode = getpass.getpass()\n",
        "!echo {vcode} | /drive/Colaboratory_notebook_unsupervised_v1 -headless -id={creds.client_id} -secret={creds.client_secret}\n",
        "#!!!注意，里面的/root/.opam/system/bin/google-drive-ocamlfuse换成你自己的路径,一般来说你也会得到和我一样的结果\n",
        "# 指定Google Drive云端硬盘的根目录，名为drive\n",
        "!mkdir -p drive\n",
        "! /drive/Colaboratory_notebook_unsupervised_v1 drive\n"
      ],
      "execution_count": 0,
      "outputs": []
    },
    {
      "metadata": {
        "id": "puroqbcdPkjU",
        "colab_type": "code",
        "colab": {}
      },
      "cell_type": "code",
      "source": [
        "!ls /content"
      ],
      "execution_count": 0,
      "outputs": []
    }
  ]
}