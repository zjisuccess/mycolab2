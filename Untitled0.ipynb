{
  "nbformat": 4,
  "nbformat_minor": 0,
  "metadata": {
    "colab": {
      "name": "Untitled0.ipynb",
      "version": "0.3.2",
      "provenance": [],
      "include_colab_link": true
    },
    "kernelspec": {
      "name": "python3",
      "display_name": "Python 3"
    }
  },
  "cells": [
    {
      "cell_type": "markdown",
      "metadata": {
        "id": "view-in-github",
        "colab_type": "text"
      },
      "source": [
        "<a href=\"https://colab.research.google.com/github/zjisuccess/mycolab2/blob/master/Untitled0.ipynb\" target=\"_parent\"><img src=\"https://colab.research.google.com/assets/colab-badge.svg\" alt=\"Open In Colab\"/></a>"
      ]
    },
    {
      "metadata": {
        "id": "5ZBDOai65jA0",
        "colab_type": "code",
        "outputId": "0e1053ba-9104-4fbf-c50e-1aadaa0dc8de",
        "colab": {
          "base_uri": "https://localhost:8080/",
          "height": 229
        }
      },
      "cell_type": "code",
      "source": [
        "!apt-get install -y -qq software-properties-common python-software-properties module-init-tools\n",
        "!add-apt-repository -y ppa:alessandro-strada/ppa 2>&1 > /dev/null\n",
        "!apt-get update -qq 2>&1 > /dev/null\n",
        "!apt-get -y install -qq google-drive-ocamlfuse fuse\n",
        "from google.colab import auth\n",
        "auth.authenticate_user()\n",
        "from oauth2client.client import GoogleCredentials\n",
        "creds = GoogleCredentials.get_application_default()\n",
        "import getpass\n",
        "!google-drive-ocamlfuse -headless -id={creds.client_id} -secret={creds.client_secret} < /dev/null 2>&1 | grep URL\n",
        "vcode = getpass.getpass()\n",
        "!echo {vcode} | google-drive-ocamlfuse -headless -id={creds.client_id} -secret={creds.client_secret}"
      ],
      "execution_count": 0,
      "outputs": [
        {
          "output_type": "stream",
          "text": [
            "E: Package 'python-software-properties' has no installation candidate\n",
            "Selecting previously unselected package google-drive-ocamlfuse.\n",
            "(Reading database ... 131304 files and directories currently installed.)\n",
            "Preparing to unpack .../google-drive-ocamlfuse_0.7.3-0ubuntu3~ubuntu18.04.1_amd64.deb ...\n",
            "Unpacking google-drive-ocamlfuse (0.7.3-0ubuntu3~ubuntu18.04.1) ...\n",
            "Setting up google-drive-ocamlfuse (0.7.3-0ubuntu3~ubuntu18.04.1) ...\n",
            "Processing triggers for man-db (2.8.3-2ubuntu0.1) ...\n",
            "Please, open the following URL in a web browser: https://accounts.google.com/o/oauth2/auth?client_id=32555940559.apps.googleusercontent.com&redirect_uri=urn%3Aietf%3Awg%3Aoauth%3A2.0%3Aoob&scope=https%3A%2F%2Fwww.googleapis.com%2Fauth%2Fdrive&response_type=code&access_type=offline&approval_prompt=force\n",
            "··········\n",
            "Please, open the following URL in a web browser: https://accounts.google.com/o/oauth2/auth?client_id=32555940559.apps.googleusercontent.com&redirect_uri=urn%3Aietf%3Awg%3Aoauth%3A2.0%3Aoob&scope=https%3A%2F%2Fwww.googleapis.com%2Fauth%2Fdrive&response_type=code&access_type=offline&approval_prompt=force\n",
            "Please enter the verification code: Access token retrieved correctly.\n"
          ],
          "name": "stdout"
        }
      ]
    },
    {
      "metadata": {
        "id": "l-bHb_IE6Loa",
        "colab_type": "code",
        "colab": {}
      },
      "cell_type": "code",
      "source": [
        "!mkdir -p drive\n",
        "!google-drive-ocamlfuse drive"
      ],
      "execution_count": 0,
      "outputs": []
    },
    {
      "metadata": {
        "id": "C8cMkgsK6UN7",
        "colab_type": "code",
        "outputId": "c54c5226-f586-4c85-b635-692b8a254b32",
        "colab": {
          "base_uri": "https://localhost:8080/",
          "height": 104
        }
      },
      "cell_type": "code",
      "source": [
        "!ls drive"
      ],
      "execution_count": 0,
      "outputs": [
        {
          "output_type": "stream",
          "text": [
            " Colaboratory_notebook\n",
            " Colaboratory_notebook_unsupervised_v1\n",
            " supervised_fmnet\n",
            " Untitled0.ipynb\n",
            "'如何将Colaboratory与google drive关联.odt'\n"
          ],
          "name": "stdout"
        }
      ]
    },
    {
      "metadata": {
        "id": "ZjPq8gHd6aIy",
        "colab_type": "code",
        "outputId": "1f68d2f0-a32c-4d03-b6fa-15d318e2f958",
        "colab": {
          "base_uri": "https://localhost:8080/",
          "height": 34
        }
      },
      "cell_type": "code",
      "source": [
        "!python get_LB.py\n"
      ],
      "execution_count": 0,
      "outputs": [
        {
          "output_type": "stream",
          "text": [
            "python3: can't open file 'get_LB.py': [Errno 2] No such file or directory\n"
          ],
          "name": "stdout"
        }
      ]
    },
    {
      "metadata": {
        "id": "puVjSgEg6fw0",
        "colab_type": "code",
        "outputId": "e6a8a20f-3f5e-4f66-b7d7-30839eca78d9",
        "colab": {
          "base_uri": "https://localhost:8080/",
          "height": 1780
        }
      },
      "cell_type": "code",
      "source": [
        "!python drive/Colaboratory_notebook_unsupervised_v1/Calculate_LB/get_LB.py"
      ],
      "execution_count": 0,
      "outputs": [
        {
          "output_type": "stream",
          "text": [
            "Getting info for shape : tr_reg_000.off\n",
            "Getting info for shape : tr_reg_001.off\n",
            "Getting info for shape : tr_reg_002.off\n",
            "Getting info for shape : tr_reg_003.off\n",
            "Getting info for shape : tr_reg_004.off\n",
            "Getting info for shape : tr_reg_005.off\n",
            "Getting info for shape : tr_reg_006.off\n",
            "Getting info for shape : tr_reg_007.off\n",
            "Getting info for shape : tr_reg_008.off\n",
            "Getting info for shape : tr_reg_009.off\n",
            "Getting info for shape : tr_reg_010.off\n",
            "Getting info for shape : tr_reg_011.off\n",
            "Getting info for shape : tr_reg_012.off\n",
            "Getting info for shape : tr_reg_013.off\n",
            "Getting info for shape : tr_reg_014.off\n",
            "Getting info for shape : tr_reg_015.off\n",
            "Getting info for shape : tr_reg_016.off\n",
            "Getting info for shape : tr_reg_017.off\n",
            "Getting info for shape : tr_reg_018.off\n",
            "Getting info for shape : tr_reg_019.off\n",
            "Getting info for shape : tr_reg_020.off\n",
            "Getting info for shape : tr_reg_021.off\n",
            "Getting info for shape : tr_reg_022.off\n",
            "Getting info for shape : tr_reg_023.off\n",
            "Getting info for shape : tr_reg_024.off\n",
            "Getting info for shape : tr_reg_025.off\n",
            "Getting info for shape : tr_reg_026.off\n",
            "Getting info for shape : tr_reg_027.off\n",
            "Getting info for shape : tr_reg_028.off\n",
            "Getting info for shape : tr_reg_029.off\n",
            "Getting info for shape : tr_reg_030.off\n",
            "Getting info for shape : tr_reg_031.off\n",
            "Getting info for shape : tr_reg_032.off\n",
            "Getting info for shape : tr_reg_033.off\n",
            "Getting info for shape : tr_reg_034.off\n",
            "Getting info for shape : tr_reg_035.off\n",
            "Getting info for shape : tr_reg_036.off\n",
            "Getting info for shape : tr_reg_037.off\n",
            "Getting info for shape : tr_reg_038.off\n",
            "Getting info for shape : tr_reg_039.off\n",
            "Getting info for shape : tr_reg_040.off\n",
            "Getting info for shape : tr_reg_041.off\n",
            "Getting info for shape : tr_reg_042.off\n",
            "Getting info for shape : tr_reg_043.off\n",
            "Getting info for shape : tr_reg_044.off\n",
            "Getting info for shape : tr_reg_045.off\n",
            "Getting info for shape : tr_reg_046.off\n",
            "Getting info for shape : tr_reg_047.off\n",
            "Getting info for shape : tr_reg_048.off\n",
            "Getting info for shape : tr_reg_049.off\n",
            "Getting info for shape : tr_reg_050.off\n",
            "Getting info for shape : tr_reg_051.off\n",
            "Getting info for shape : tr_reg_052.off\n",
            "Getting info for shape : tr_reg_053.off\n",
            "Getting info for shape : tr_reg_054.off\n",
            "Getting info for shape : tr_reg_055.off\n",
            "Getting info for shape : tr_reg_056.off\n",
            "Getting info for shape : tr_reg_057.off\n",
            "Getting info for shape : tr_reg_058.off\n",
            "Getting info for shape : tr_reg_059.off\n",
            "Getting info for shape : tr_reg_060.off\n",
            "Getting info for shape : tr_reg_061.off\n",
            "Getting info for shape : tr_reg_062.off\n",
            "Getting info for shape : tr_reg_063.off\n",
            "Getting info for shape : tr_reg_064.off\n",
            "Getting info for shape : tr_reg_065.off\n",
            "Getting info for shape : tr_reg_066.off\n",
            "Getting info for shape : tr_reg_067.off\n",
            "Getting info for shape : tr_reg_068.off\n",
            "Getting info for shape : tr_reg_069.off\n",
            "Getting info for shape : tr_reg_070.off\n",
            "Getting info for shape : tr_reg_071.off\n",
            "Getting info for shape : tr_reg_072.off\n",
            "Getting info for shape : tr_reg_073.off\n",
            "Getting info for shape : tr_reg_074.off\n",
            "Getting info for shape : tr_reg_075.off\n",
            "Getting info for shape : tr_reg_076.off\n",
            "Getting info for shape : tr_reg_077.off\n",
            "Getting info for shape : tr_reg_078.off\n",
            "Getting info for shape : tr_reg_079.off\n",
            "Getting info for shape : tr_reg_080.off\n",
            "Getting info for shape : tr_reg_081.off\n",
            "Getting info for shape : tr_reg_082.off\n",
            "Getting info for shape : tr_reg_083.off\n",
            "Getting info for shape : tr_reg_084.off\n",
            "Getting info for shape : tr_reg_085.off\n",
            "Getting info for shape : tr_reg_086.off\n",
            "Getting info for shape : tr_reg_087.off\n",
            "Getting info for shape : tr_reg_088.off\n",
            "Getting info for shape : tr_reg_089.off\n",
            "Getting info for shape : tr_reg_090.off\n",
            "Getting info for shape : tr_reg_091.off\n",
            "Getting info for shape : tr_reg_092.off\n",
            "Getting info for shape : tr_reg_093.off\n",
            "Getting info for shape : tr_reg_094.off\n",
            "Getting info for shape : tr_reg_095.off\n",
            "Getting info for shape : tr_reg_096.off\n",
            "Getting info for shape : tr_reg_097.off\n",
            "Getting info for shape : tr_reg_098.off\n",
            "Getting info for shape : tr_reg_099.off\n",
            "---Done in 446.469363---\n"
          ],
          "name": "stdout"
        }
      ]
    },
    {
      "metadata": {
        "id": "Xaiqypjo9yR7",
        "colab_type": "code",
        "outputId": "eef5506f-3236-45e8-c45c-bf1c61ddd2a3",
        "colab": {
          "base_uri": "https://localhost:8080/",
          "height": 139
        }
      },
      "cell_type": "code",
      "source": [
        "!python drive/Colaboratory_notebook_unsupervised_v1/Calculate_LB/get_LB.py"
      ],
      "execution_count": 0,
      "outputs": [
        {
          "output_type": "stream",
          "text": [
            "Getting info for shape : tr_reg_000.off\n",
            "Traceback (most recent call last):\n",
            "  File \"drive/Colaboratory_notebook_unsupervised_v1/Calculate_LB/get_LB.py\", line 16, in <module>\n",
            "    S = readOFF(file_off)\n",
            "  File \"/content/drive/Colaboratory_notebook_unsupervised_v1/Calculate_LB/readOFF.py\", line 4, in readOFF\n",
            "    file = open(file, 'r')\n",
            "FileNotFoundError: [Errno 2] No such file or directory: './off_files/tr_reg_000.off'\n"
          ],
          "name": "stdout"
        }
      ]
    },
    {
      "metadata": {
        "id": "RAaXxpLY92Y6",
        "colab_type": "code",
        "outputId": "0c06a2cb-cd07-4d63-e0c7-daa71531f74d",
        "colab": {
          "base_uri": "https://localhost:8080/",
          "height": 944
        }
      },
      "cell_type": "code",
      "source": [
        "!python drive/Colaboratory_notebook_unsupervised_v1/train_DFMnet.py"
      ],
      "execution_count": 0,
      "outputs": [
        {
          "output_type": "stream",
          "text": [
            "log_dir=./Training/\n",
            "num_evecs=120\n",
            "building graph...\n",
            "\n",
            "WARNING: The TensorFlow contrib module will not be included in TensorFlow 2.0.\n",
            "For more information, please see:\n",
            "  * https://github.com/tensorflow/community/blob/master/rfcs/20180907-contrib-sunset.md\n",
            "  * https://github.com/tensorflow/addons\n",
            "If you depend on functionality not listed there, please file an issue.\n",
            "\n",
            "WARNING:tensorflow:From /usr/local/lib/python3.6/dist-packages/tensorflow/python/framework/op_def_library.py:263: colocate_with (from tensorflow.python.framework.ops) is deprecated and will be removed in a future version.\n",
            "Instructions for updating:\n",
            "Colocations handled automatically by placer.\n",
            "WARNING:tensorflow:From /content/drive/Colaboratory_notebook_unsupervised_v1/DFMnet.py:168: to_float (from tensorflow.python.ops.math_ops) is deprecated and will be removed in a future version.\n",
            "Instructions for updating:\n",
            "Use tf.cast instead.\n",
            "WARNING:tensorflow:From /usr/local/lib/python3.6/dist-packages/tensorflow/python/ops/math_ops.py:3066: to_int32 (from tensorflow.python.ops.math_ops) is deprecated and will be removed in a future version.\n",
            "Instructions for updating:\n",
            "Use tf.cast instead.\n",
            "WARNING:tensorflow:From drive/Colaboratory_notebook_unsupervised_v1/train_DFMnet.py:220: Supervisor.__init__ (from tensorflow.python.training.supervisor) is deprecated and will be removed in a future version.\n",
            "Instructions for updating:\n",
            "Please switch to tf.train.MonitoredTrainingSession\n",
            "starting session...\n",
            "2019-04-28 08:03:56.227946: I tensorflow/core/platform/profile_utils/cpu_utils.cc:94] CPU Frequency: 2300000000 Hz\n",
            "2019-04-28 08:03:56.229542: I tensorflow/compiler/xla/service/service.cc:150] XLA service 0x3315e40 executing computations on platform Host. Devices:\n",
            "2019-04-28 08:03:56.229594: I tensorflow/compiler/xla/service/service.cc:158]   StreamExecutor device (0): <undefined>, <undefined>\n",
            "loading data to ram...\n",
            "Traceback (most recent call last):\n",
            "  File \"/usr/local/lib/python3.6/dist-packages/scipy/io/matlab/mio.py\", line 31, in _open_file\n",
            "    return open(file_like, 'rb'), True\n",
            "FileNotFoundError: [Errno 2] No such file or directory: './Shapes/tr_reg_000.mat'\n",
            "\n",
            "During handling of the above exception, another exception occurred:\n",
            "\n",
            "Traceback (most recent call last):\n",
            "  File \"drive/Colaboratory_notebook_unsupervised_v1/train_DFMnet.py\", line 281, in <module>\n",
            "    tf.app.run()\n",
            "  File \"/usr/local/lib/python3.6/dist-packages/tensorflow/python/platform/app.py\", line 125, in run\n",
            "    _sys.exit(main(argv))\n",
            "  File \"drive/Colaboratory_notebook_unsupervised_v1/train_DFMnet.py\", line 276, in main\n",
            "    run_training()\n",
            "  File \"drive/Colaboratory_notebook_unsupervised_v1/train_DFMnet.py\", line 233, in run_training\n",
            "    load_targets_to_ram()\n",
            "  File \"drive/Colaboratory_notebook_unsupervised_v1/train_DFMnet.py\", line 142, in load_targets_to_ram\n",
            "    input_data = sio.loadmat(target_file)\n",
            "  File \"/usr/local/lib/python3.6/dist-packages/scipy/io/matlab/mio.py\", line 207, in loadmat\n",
            "    MR, file_opened = mat_reader_factory(file_name, appendmat, **kwargs)\n",
            "  File \"/usr/local/lib/python3.6/dist-packages/scipy/io/matlab/mio.py\", line 62, in mat_reader_factory\n",
            "    byte_stream, file_opened = _open_file(file_name, appendmat)\n",
            "  File \"/usr/local/lib/python3.6/dist-packages/scipy/io/matlab/mio.py\", line 37, in _open_file\n",
            "    return open(file_like, 'rb'), True\n",
            "FileNotFoundError: [Errno 2] No such file or directory: './Shapes/tr_reg_000.mat'\n"
          ],
          "name": "stdout"
        }
      ]
    },
    {
      "metadata": {
        "id": "eh-jh_7dByOa",
        "colab_type": "code",
        "outputId": "058a95af-fbfd-4cb5-d70f-e5dd5f2ba5a1",
        "colab": {
          "base_uri": "https://localhost:8080/",
          "height": 1049
        }
      },
      "cell_type": "code",
      "source": [
        "!python drive/Colaboratory_notebook_unsupervised_v1/train_DFMnet.py"
      ],
      "execution_count": 0,
      "outputs": [
        {
          "output_type": "stream",
          "text": [
            "log_dir=./Training/\n",
            "num_evecs=120\n",
            "building graph...\n",
            "\n",
            "WARNING: The TensorFlow contrib module will not be included in TensorFlow 2.0.\n",
            "For more information, please see:\n",
            "  * https://github.com/tensorflow/community/blob/master/rfcs/20180907-contrib-sunset.md\n",
            "  * https://github.com/tensorflow/addons\n",
            "If you depend on functionality not listed there, please file an issue.\n",
            "\n",
            "WARNING:tensorflow:From /usr/local/lib/python3.6/dist-packages/tensorflow/python/framework/op_def_library.py:263: colocate_with (from tensorflow.python.framework.ops) is deprecated and will be removed in a future version.\n",
            "Instructions for updating:\n",
            "Colocations handled automatically by placer.\n",
            "WARNING:tensorflow:From /content/drive/Colaboratory_notebook_unsupervised_v1/DFMnet.py:168: to_float (from tensorflow.python.ops.math_ops) is deprecated and will be removed in a future version.\n",
            "Instructions for updating:\n",
            "Use tf.cast instead.\n",
            "WARNING:tensorflow:From /usr/local/lib/python3.6/dist-packages/tensorflow/python/ops/math_ops.py:3066: to_int32 (from tensorflow.python.ops.math_ops) is deprecated and will be removed in a future version.\n",
            "Instructions for updating:\n",
            "Use tf.cast instead.\n",
            "WARNING:tensorflow:From drive/Colaboratory_notebook_unsupervised_v1/train_DFMnet.py:220: Supervisor.__init__ (from tensorflow.python.training.supervisor) is deprecated and will be removed in a future version.\n",
            "Instructions for updating:\n",
            "Please switch to tf.train.MonitoredTrainingSession\n",
            "starting session...\n",
            "2019-04-28 08:20:08.764432: I tensorflow/core/platform/profile_utils/cpu_utils.cc:94] CPU Frequency: 2300000000 Hz\n",
            "2019-04-28 08:20:08.764667: I tensorflow/compiler/xla/service/service.cc:150] XLA service 0x23dde40 executing computations on platform Host. Devices:\n",
            "2019-04-28 08:20:08.764701: I tensorflow/compiler/xla/service/service.cc:158]   StreamExecutor device (0): <undefined>, <undefined>\n",
            "WARNING:tensorflow:From /usr/local/lib/python3.6/dist-packages/tensorflow/python/training/saver.py:1266: checkpoint_exists (from tensorflow.python.training.checkpoint_management) is deprecated and will be removed in a future version.\n",
            "Instructions for updating:\n",
            "Use standard file APIs to check for files with this prefix.\n",
            "WARNING:tensorflow:From /usr/local/lib/python3.6/dist-packages/tensorflow/python/training/saver.py:1070: get_checkpoint_mtimes (from tensorflow.python.training.checkpoint_management) is deprecated and will be removed in a future version.\n",
            "Instructions for updating:\n",
            "Use standard file utilities to get mtimes.\n",
            "loading data to ram...\n",
            "Traceback (most recent call last):\n",
            "  File \"/usr/local/lib/python3.6/dist-packages/scipy/io/matlab/mio.py\", line 31, in _open_file\n",
            "    return open(file_like, 'rb'), True\n",
            "FileNotFoundError: [Errno 2] No such file or directory: './Shapes/tr_reg_000.mat'\n",
            "\n",
            "During handling of the above exception, another exception occurred:\n",
            "\n",
            "Traceback (most recent call last):\n",
            "  File \"drive/Colaboratory_notebook_unsupervised_v1/train_DFMnet.py\", line 281, in <module>\n",
            "    tf.app.run()\n",
            "  File \"/usr/local/lib/python3.6/dist-packages/tensorflow/python/platform/app.py\", line 125, in run\n",
            "    _sys.exit(main(argv))\n",
            "  File \"drive/Colaboratory_notebook_unsupervised_v1/train_DFMnet.py\", line 276, in main\n",
            "    run_training()\n",
            "  File \"drive/Colaboratory_notebook_unsupervised_v1/train_DFMnet.py\", line 233, in run_training\n",
            "    load_targets_to_ram()\n",
            "  File \"drive/Colaboratory_notebook_unsupervised_v1/train_DFMnet.py\", line 142, in load_targets_to_ram\n",
            "    input_data = sio.loadmat(target_file)\n",
            "  File \"/usr/local/lib/python3.6/dist-packages/scipy/io/matlab/mio.py\", line 207, in loadmat\n",
            "    MR, file_opened = mat_reader_factory(file_name, appendmat, **kwargs)\n",
            "  File \"/usr/local/lib/python3.6/dist-packages/scipy/io/matlab/mio.py\", line 62, in mat_reader_factory\n",
            "    byte_stream, file_opened = _open_file(file_name, appendmat)\n",
            "  File \"/usr/local/lib/python3.6/dist-packages/scipy/io/matlab/mio.py\", line 37, in _open_file\n",
            "    return open(file_like, 'rb'), True\n",
            "FileNotFoundError: [Errno 2] No such file or directory: './Shapes/tr_reg_000.mat'\n"
          ],
          "name": "stdout"
        }
      ]
    },
    {
      "metadata": {
        "id": "du5etwzXF1G5",
        "colab_type": "code",
        "outputId": "10ea7142-611b-40b8-c53c-9ac10e685d7d",
        "colab": {
          "base_uri": "https://localhost:8080/",
          "height": 1049
        }
      },
      "cell_type": "code",
      "source": [
        "!python drive/Colaboratory_notebook_unsupervised_v1/train_DFMnet.py"
      ],
      "execution_count": 0,
      "outputs": [
        {
          "output_type": "stream",
          "text": [
            "log_dir=./Training/\n",
            "num_evecs=120\n",
            "building graph...\n",
            "\n",
            "WARNING: The TensorFlow contrib module will not be included in TensorFlow 2.0.\n",
            "For more information, please see:\n",
            "  * https://github.com/tensorflow/community/blob/master/rfcs/20180907-contrib-sunset.md\n",
            "  * https://github.com/tensorflow/addons\n",
            "If you depend on functionality not listed there, please file an issue.\n",
            "\n",
            "WARNING:tensorflow:From /usr/local/lib/python3.6/dist-packages/tensorflow/python/framework/op_def_library.py:263: colocate_with (from tensorflow.python.framework.ops) is deprecated and will be removed in a future version.\n",
            "Instructions for updating:\n",
            "Colocations handled automatically by placer.\n",
            "WARNING:tensorflow:From /content/drive/Colaboratory_notebook_unsupervised_v1/DFMnet.py:168: to_float (from tensorflow.python.ops.math_ops) is deprecated and will be removed in a future version.\n",
            "Instructions for updating:\n",
            "Use tf.cast instead.\n",
            "WARNING:tensorflow:From /usr/local/lib/python3.6/dist-packages/tensorflow/python/ops/math_ops.py:3066: to_int32 (from tensorflow.python.ops.math_ops) is deprecated and will be removed in a future version.\n",
            "Instructions for updating:\n",
            "Use tf.cast instead.\n",
            "WARNING:tensorflow:From drive/Colaboratory_notebook_unsupervised_v1/train_DFMnet.py:220: Supervisor.__init__ (from tensorflow.python.training.supervisor) is deprecated and will be removed in a future version.\n",
            "Instructions for updating:\n",
            "Please switch to tf.train.MonitoredTrainingSession\n",
            "starting session...\n",
            "2019-04-28 08:37:32.582131: I tensorflow/core/platform/profile_utils/cpu_utils.cc:94] CPU Frequency: 2300000000 Hz\n",
            "2019-04-28 08:37:32.582357: I tensorflow/compiler/xla/service/service.cc:150] XLA service 0x1c07e40 executing computations on platform Host. Devices:\n",
            "2019-04-28 08:37:32.582391: I tensorflow/compiler/xla/service/service.cc:158]   StreamExecutor device (0): <undefined>, <undefined>\n",
            "WARNING:tensorflow:From /usr/local/lib/python3.6/dist-packages/tensorflow/python/training/saver.py:1266: checkpoint_exists (from tensorflow.python.training.checkpoint_management) is deprecated and will be removed in a future version.\n",
            "Instructions for updating:\n",
            "Use standard file APIs to check for files with this prefix.\n",
            "WARNING:tensorflow:From /usr/local/lib/python3.6/dist-packages/tensorflow/python/training/saver.py:1070: get_checkpoint_mtimes (from tensorflow.python.training.checkpoint_management) is deprecated and will be removed in a future version.\n",
            "Instructions for updating:\n",
            "Use standard file utilities to get mtimes.\n",
            "loading data to ram...\n",
            "Traceback (most recent call last):\n",
            "  File \"/usr/local/lib/python3.6/dist-packages/scipy/io/matlab/mio.py\", line 31, in _open_file\n",
            "    return open(file_like, 'rb'), True\n",
            "FileNotFoundError: [Errno 2] No such file or directory: './Shapes/tr_reg_000.mat'\n",
            "\n",
            "During handling of the above exception, another exception occurred:\n",
            "\n",
            "Traceback (most recent call last):\n",
            "  File \"drive/Colaboratory_notebook_unsupervised_v1/train_DFMnet.py\", line 281, in <module>\n",
            "    tf.app.run()\n",
            "  File \"/usr/local/lib/python3.6/dist-packages/tensorflow/python/platform/app.py\", line 125, in run\n",
            "    _sys.exit(main(argv))\n",
            "  File \"drive/Colaboratory_notebook_unsupervised_v1/train_DFMnet.py\", line 276, in main\n",
            "    run_training()\n",
            "  File \"drive/Colaboratory_notebook_unsupervised_v1/train_DFMnet.py\", line 233, in run_training\n",
            "    load_targets_to_ram()\n",
            "  File \"drive/Colaboratory_notebook_unsupervised_v1/train_DFMnet.py\", line 142, in load_targets_to_ram\n",
            "    input_data = sio.loadmat(target_file)\n",
            "  File \"/usr/local/lib/python3.6/dist-packages/scipy/io/matlab/mio.py\", line 207, in loadmat\n",
            "    MR, file_opened = mat_reader_factory(file_name, appendmat, **kwargs)\n",
            "  File \"/usr/local/lib/python3.6/dist-packages/scipy/io/matlab/mio.py\", line 62, in mat_reader_factory\n",
            "    byte_stream, file_opened = _open_file(file_name, appendmat)\n",
            "  File \"/usr/local/lib/python3.6/dist-packages/scipy/io/matlab/mio.py\", line 37, in _open_file\n",
            "    return open(file_like, 'rb'), True\n",
            "FileNotFoundError: [Errno 2] No such file or directory: './Shapes/tr_reg_000.mat'\n"
          ],
          "name": "stdout"
        }
      ]
    },
    {
      "metadata": {
        "id": "TnbfMv3GF1IO",
        "colab_type": "code",
        "outputId": "32625d96-8d13-4092-e4f3-01c60f70d12c",
        "colab": {
          "base_uri": "https://localhost:8080/",
          "height": 86
        }
      },
      "cell_type": "code",
      "source": [
        "!python drive/Colaboratory_notebook_unsupervised_v1/train_DFMnet.py"
      ],
      "execution_count": 0,
      "outputs": [
        {
          "output_type": "stream",
          "text": [
            "  File \"drive/Colaboratory_notebook_unsupervised_v1/train_DFMnet.py\", line 280\n",
            "    if \n",
            "      ^\n",
            "SyntaxError: invalid syntax\n"
          ],
          "name": "stdout"
        }
      ]
    },
    {
      "metadata": {
        "id": "c9F1OgNsHLZ6",
        "colab_type": "code",
        "outputId": "2fc2152a-c483-4ab3-dab7-4398d7b89285",
        "colab": {
          "base_uri": "https://localhost:8080/",
          "height": 86
        }
      },
      "cell_type": "code",
      "source": [
        "!python drive/Colaboratory_notebook_unsupervised_v1/train_DFMnet.py"
      ],
      "execution_count": 14,
      "outputs": [
        {
          "output_type": "stream",
          "text": [
            "  File \"drive/Colaboratory_notebook_unsupervised_v1/train_DFMnet.py\", line 280\n",
            "    if \n",
            "      ^\n",
            "SyntaxError: invalid syntax\n"
          ],
          "name": "stdout"
        }
      ]
    }
  ]
}