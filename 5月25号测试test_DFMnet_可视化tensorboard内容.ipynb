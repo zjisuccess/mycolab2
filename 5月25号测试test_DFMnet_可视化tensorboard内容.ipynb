{
  "nbformat": 4,
  "nbformat_minor": 0,
  "metadata": {
    "colab": {
      "name": "5月25号测试test_DFMnet_可视化tensorboard内容.ipynb",
      "version": "0.3.2",
      "provenance": [],
      "include_colab_link": true
    },
    "kernelspec": {
      "name": "python3",
      "display_name": "Python 3"
    },
    "accelerator": "GPU"
  },
  "cells": [
    {
      "cell_type": "markdown",
      "metadata": {
        "id": "view-in-github",
        "colab_type": "text"
      },
      "source": [
        "<a href=\"https://colab.research.google.com/github/zjisuccess/mycolab2/blob/master/5%E6%9C%8825%E5%8F%B7%E6%B5%8B%E8%AF%95test_DFMnet_%E5%8F%AF%E8%A7%86%E5%8C%96tensorboard%E5%86%85%E5%AE%B9.ipynb\" target=\"_parent\"><img src=\"https://colab.research.google.com/assets/colab-badge.svg\" alt=\"Open In Colab\"/></a>"
      ]
    },
    {
      "cell_type": "code",
      "metadata": {
        "id": "ivf-rEq8dBG7",
        "colab_type": "code",
        "outputId": "3123a70d-6262-42c1-85e6-e8bd3311abf6",
        "colab": {
          "base_uri": "https://localhost:8080/",
          "height": 222
        }
      },
      "source": [
        "!apt-get install -y -qq software-properties-common python-software-properties module-init-tools\n",
        "!add-apt-repository -y ppa:alessandro-strada/ppa 2>&1 > /dev/null\n",
        "!apt-get update -qq 2>&1 > /dev/null\n",
        "!apt-get -y install -qq google-drive-ocamlfuse fuse\n",
        "from google.colab import auth\n",
        "auth.authenticate_user()\n",
        "from oauth2client.client import GoogleCredentials\n",
        "creds = GoogleCredentials.get_application_default()\n",
        "import getpass\n",
        "!google-drive-ocamlfuse -headless -id={creds.client_id} -secret={creds.client_secret} < /dev/null 2>&1 | grep URL\n",
        "vcode = getpass.getpass()\n",
        "!echo {vcode} | google-drive-ocamlfuse -headless -id={creds.client_id} -secret={creds.client_secret}"
      ],
      "execution_count": 0,
      "outputs": [
        {
          "output_type": "stream",
          "text": [
            "E: Package 'python-software-properties' has no installation candidate\n",
            "Selecting previously unselected package google-drive-ocamlfuse.\n",
            "(Reading database ... 130911 files and directories currently installed.)\n",
            "Preparing to unpack .../google-drive-ocamlfuse_0.7.3-0ubuntu3~ubuntu18.04.1_amd64.deb ...\n",
            "Unpacking google-drive-ocamlfuse (0.7.3-0ubuntu3~ubuntu18.04.1) ...\n",
            "Setting up google-drive-ocamlfuse (0.7.3-0ubuntu3~ubuntu18.04.1) ...\n",
            "Processing triggers for man-db (2.8.3-2ubuntu0.1) ...\n",
            "Please, open the following URL in a web browser: https://accounts.google.com/o/oauth2/auth?client_id=32555940559.apps.googleusercontent.com&redirect_uri=urn%3Aietf%3Awg%3Aoauth%3A2.0%3Aoob&scope=https%3A%2F%2Fwww.googleapis.com%2Fauth%2Fdrive&response_type=code&access_type=offline&approval_prompt=force\n",
            "··········\n",
            "Please, open the following URL in a web browser: https://accounts.google.com/o/oauth2/auth?client_id=32555940559.apps.googleusercontent.com&redirect_uri=urn%3Aietf%3Awg%3Aoauth%3A2.0%3Aoob&scope=https%3A%2F%2Fwww.googleapis.com%2Fauth%2Fdrive&response_type=code&access_type=offline&approval_prompt=force\n",
            "Please enter the verification code: Access token retrieved correctly.\n"
          ],
          "name": "stdout"
        }
      ]
    },
    {
      "cell_type": "code",
      "metadata": {
        "id": "pNQd3t_6qniU",
        "colab_type": "code",
        "colab": {}
      },
      "source": [
        ""
      ],
      "execution_count": 0,
      "outputs": []
    },
    {
      "cell_type": "code",
      "metadata": {
        "id": "aqZdgw5OKhAx",
        "colab_type": "code",
        "colab": {}
      },
      "source": [
        "!mkdir -p drive\n",
        "!google-drive-ocamlfuse drive"
      ],
      "execution_count": 0,
      "outputs": []
    },
    {
      "cell_type": "code",
      "metadata": {
        "id": "k02WNcPwV-Fh",
        "colab_type": "code",
        "outputId": "efeb8f8c-ab1e-40da-ae53-a9b352c76cc4",
        "colab": {
          "base_uri": "https://localhost:8080/",
          "height": 134
        }
      },
      "source": [
        "!ls drive"
      ],
      "execution_count": 0,
      "outputs": [
        {
          "output_type": "stream",
          "text": [
            " DeepFunctionalMaps-master\n",
            " Or_Litany\n",
            " testcode.py\n",
            " test_train_DFMnet_code_2019_5_9.ipynb\n",
            " unsupervisedfmnet\n",
            " Untitled0.ipynb\n",
            "'如何将Colaboratory与google drive关联.odt'\n"
          ],
          "name": "stdout"
        }
      ]
    },
    {
      "cell_type": "code",
      "metadata": {
        "id": "_VmxDtDF4QKD",
        "colab_type": "code",
        "outputId": "105aab7c-1cd1-4a47-e8d1-b75678ad05ff",
        "colab": {
          "base_uri": "https://localhost:8080/",
          "height": 185
        }
      },
      "source": [
        "!pip show tensorflow"
      ],
      "execution_count": 0,
      "outputs": [
        {
          "output_type": "stream",
          "text": [
            "Name: tensorflow\n",
            "Version: 1.13.1\n",
            "Summary: TensorFlow is an open source machine learning framework for everyone.\n",
            "Home-page: https://www.tensorflow.org/\n",
            "Author: Google Inc.\n",
            "Author-email: opensource@google.com\n",
            "License: Apache 2.0\n",
            "Location: /usr/local/lib/python3.6/dist-packages\n",
            "Requires: termcolor, six, tensorboard, wheel, tensorflow-estimator, keras-preprocessing, absl-py, gast, numpy, protobuf, grpcio, astor, keras-applications\n",
            "Required-by: stable-baselines, magenta, fancyimpute\n"
          ],
          "name": "stdout"
        }
      ]
    },
    {
      "cell_type": "code",
      "metadata": {
        "id": "FJccjHAcLFJK",
        "colab_type": "code",
        "outputId": "6dcb82a2-815c-42bc-9c76-9f275a6c0664",
        "colab": {
          "base_uri": "https://localhost:8080/",
          "height": 84
        }
      },
      "source": [
        "!git clone https://github.com/orlitany/DeepFunctionalMaps.git 'drive/deepfunctionalmapfmnet/'"
      ],
      "execution_count": 0,
      "outputs": [
        {
          "output_type": "stream",
          "text": [
            "Cloning into 'drive/deepfunctionalmapfmnet'...\n",
            "remote: Enumerating objects: 84, done.\u001b[K\n",
            "remote: Total 84 (delta 0), reused 0 (delta 0), pack-reused 84\u001b[K\n",
            "Unpacking objects: 100% (84/84), done.\n"
          ],
          "name": "stdout"
        }
      ]
    },
    {
      "cell_type": "code",
      "metadata": {
        "id": "Mof5kaFEMBDW",
        "colab_type": "code",
        "outputId": "d5824fd1-92f1-4a53-bb18-05445bc98c42",
        "colab": {
          "base_uri": "https://localhost:8080/",
          "height": 34
        }
      },
      "source": [
        "!python drive/DeepFunctionalMaps-master/train_FMnet.py"
      ],
      "execution_count": 0,
      "outputs": [
        {
          "output_type": "stream",
          "text": [
            "python3: can't open file 'drive/DeepFunctionalMaps-master/train_FMnet.py': [Errno 2] No such file or directory\n"
          ],
          "name": "stdout"
        }
      ]
    },
    {
      "cell_type": "code",
      "metadata": {
        "id": "c59teTLFMc7c",
        "colab_type": "code",
        "colab": {}
      },
      "source": [
        "!ls drive/\n",
        "\n"
      ],
      "execution_count": 0,
      "outputs": []
    },
    {
      "cell_type": "code",
      "metadata": {
        "id": "JteNp5u6MmMk",
        "colab_type": "code",
        "outputId": "98494e15-d5f7-4431-dc45-ecf5a626e6a5",
        "colab": {
          "base_uri": "https://localhost:8080/",
          "height": 50
        }
      },
      "source": [
        "!ls drive/deepfunctionalmapfmnet/"
      ],
      "execution_count": 0,
      "outputs": [
        {
          "output_type": "stream",
          "text": [
            "fmnet.png  ops.py     test_FMnet.py   Utils\n",
            "models.py  README.md  train_FMnet.py  Visualization\n"
          ],
          "name": "stdout"
        }
      ]
    },
    {
      "cell_type": "code",
      "metadata": {
        "id": "Ob4shE-iNKYr",
        "colab_type": "code",
        "outputId": "e10d618c-579f-40e0-85c8-056fa78c6fef",
        "colab": {
          "base_uri": "https://localhost:8080/",
          "height": 67
        }
      },
      "source": [
        "!ls drive\n"
      ],
      "execution_count": 0,
      "outputs": [
        {
          "output_type": "stream",
          "text": [
            " DeepFunctionalMaps-master   Untitled0.ipynb\n",
            " Or_Litany\t\t     Untitled1.ipynb\n",
            " unsupervisedfmnet\t    '如何将Colaboratory与google drive关联.odt'\n"
          ],
          "name": "stdout"
        }
      ]
    },
    {
      "cell_type": "code",
      "metadata": {
        "id": "8Bs8D6PogQoc",
        "colab_type": "code",
        "outputId": "d67707e6-73d4-42e6-9eee-609bcf999946",
        "colab": {
          "base_uri": "https://localhost:8080/",
          "height": 1062
        }
      },
      "source": [
        "!python drive/DeepFunctionalMaps-master/train_FMnet.py"
      ],
      "execution_count": 0,
      "outputs": [
        {
          "output_type": "stream",
          "text": [
            "log_dir=./Results/train_inter_k_flag\n",
            "num_evecs=120\n",
            "building graph...\n",
            "\n",
            "WARNING: The TensorFlow contrib module will not be included in TensorFlow 2.0.\n",
            "For more information, please see:\n",
            "  * https://github.com/tensorflow/community/blob/master/rfcs/20180907-contrib-sunset.md\n",
            "  * https://github.com/tensorflow/addons\n",
            "If you depend on functionality not listed there, please file an issue.\n",
            "\n",
            "WARNING:tensorflow:From /usr/local/lib/python3.6/dist-packages/tensorflow/python/framework/op_def_library.py:263: colocate_with (from tensorflow.python.framework.ops) is deprecated and will be removed in a future version.\n",
            "Instructions for updating:\n",
            "Colocations handled automatically by placer.\n",
            "WARNING:tensorflow:From /content/drive/DeepFunctionalMaps-master/ops.py:85: to_float (from tensorflow.python.ops.math_ops) is deprecated and will be removed in a future version.\n",
            "Instructions for updating:\n",
            "Use tf.cast instead.\n",
            "WARNING:tensorflow:From /content/drive/DeepFunctionalMaps-master/ops.py:20: calling l2_normalize (from tensorflow.python.ops.nn_impl) with dim is deprecated and will be removed in a future version.\n",
            "Instructions for updating:\n",
            "dim is deprecated, use axis instead\n",
            "WARNING:tensorflow:From /usr/local/lib/python3.6/dist-packages/tensorflow/python/ops/math_ops.py:3066: to_int32 (from tensorflow.python.ops.math_ops) is deprecated and will be removed in a future version.\n",
            "Instructions for updating:\n",
            "Use tf.cast instead.\n",
            "WARNING:tensorflow:From drive/DeepFunctionalMaps-master/train_FMnet.py:186: Supervisor.__init__ (from tensorflow.python.training.supervisor) is deprecated and will be removed in a future version.\n",
            "Instructions for updating:\n",
            "Please switch to tf.train.MonitoredTrainingSession\n",
            "starting session...\n",
            "2019-05-07 13:59:11.603766: I tensorflow/core/platform/profile_utils/cpu_utils.cc:94] CPU Frequency: 2200000000 Hz\n",
            "2019-05-07 13:59:11.604017: I tensorflow/compiler/xla/service/service.cc:150] XLA service 0x165fe40 executing computations on platform Host. Devices:\n",
            "2019-05-07 13:59:11.604052: I tensorflow/compiler/xla/service/service.cc:158]   StreamExecutor device (0): <undefined>, <undefined>\n",
            "WARNING:tensorflow:From /usr/local/lib/python3.6/dist-packages/tensorflow/python/training/saver.py:1266: checkpoint_exists (from tensorflow.python.training.checkpoint_management) is deprecated and will be removed in a future version.\n",
            "Instructions for updating:\n",
            "Use standard file APIs to check for files with this prefix.\n",
            "WARNING:tensorflow:From /usr/local/lib/python3.6/dist-packages/tensorflow/python/training/saver.py:1070: get_checkpoint_mtimes (from tensorflow.python.training.checkpoint_management) is deprecated and will be removed in a future version.\n",
            "Instructions for updating:\n",
            "Use standard file utilities to get mtimes.\n",
            "loading data to ram...\n",
            "Traceback (most recent call last):\n",
            "  File \"/usr/local/lib/python3.6/dist-packages/scipy/io/matlab/mio.py\", line 31, in _open_file\n",
            "    return open(file_like, 'rb'), True\n",
            "FileNotFoundError: [Errno 2] No such file or directory: './Data/faust_models//train/tr_reg_000.mat'\n",
            "\n",
            "During handling of the above exception, another exception occurred:\n",
            "\n",
            "Traceback (most recent call last):\n",
            "  File \"drive/DeepFunctionalMaps-master/train_FMnet.py\", line 239, in <module>\n",
            "    tf.app.run()\n",
            "  File \"/usr/local/lib/python3.6/dist-packages/tensorflow/python/platform/app.py\", line 125, in run\n",
            "    _sys.exit(main(argv))\n",
            "  File \"drive/DeepFunctionalMaps-master/train_FMnet.py\", line 235, in main\n",
            "    run_training()\n",
            "  File \"drive/DeepFunctionalMaps-master/train_FMnet.py\", line 196, in run_training\n",
            "    load_models_to_ram()\n",
            "  File \"drive/DeepFunctionalMaps-master/train_FMnet.py\", line 120, in load_models_to_ram\n",
            "    input_data = sio.loadmat(model_file)\n",
            "  File \"/usr/local/lib/python3.6/dist-packages/scipy/io/matlab/mio.py\", line 207, in loadmat\n",
            "    MR, file_opened = mat_reader_factory(file_name, appendmat, **kwargs)\n",
            "  File \"/usr/local/lib/python3.6/dist-packages/scipy/io/matlab/mio.py\", line 62, in mat_reader_factory\n",
            "    byte_stream, file_opened = _open_file(file_name, appendmat)\n",
            "  File \"/usr/local/lib/python3.6/dist-packages/scipy/io/matlab/mio.py\", line 37, in _open_file\n",
            "    return open(file_like, 'rb'), True\n",
            "FileNotFoundError: [Errno 2] No such file or directory: './Data/faust_models//train/tr_reg_000.mat'\n"
          ],
          "name": "stdout"
        }
      ]
    },
    {
      "cell_type": "code",
      "metadata": {
        "id": "qiPwvJO-hT5D",
        "colab_type": "code",
        "outputId": "8113890d-e840-45b0-f774-23b13e055b3a",
        "colab": {
          "base_uri": "https://localhost:8080/",
          "height": 722
        }
      },
      "source": [
        "!pip install tensorflow==1.6.0"
      ],
      "execution_count": 0,
      "outputs": [
        {
          "output_type": "stream",
          "text": [
            "Collecting tensorflow==1.6.0\n",
            "\u001b[?25l  Downloading https://files.pythonhosted.org/packages/d9/0f/fbd8bb92459c75db93040f80702ebe4ba83a52cdb6ad930654c31dc0b711/tensorflow-1.6.0-cp36-cp36m-manylinux1_x86_64.whl (45.8MB)\n",
            "\u001b[K     |████████████████████████████████| 45.9MB 11.5MB/s \n",
            "\u001b[?25hRequirement already satisfied: absl-py>=0.1.6 in /usr/local/lib/python3.6/dist-packages (from tensorflow==1.6.0) (0.7.1)\n",
            "Requirement already satisfied: wheel>=0.26 in /usr/local/lib/python3.6/dist-packages (from tensorflow==1.6.0) (0.33.4)\n",
            "Requirement already satisfied: grpcio>=1.8.6 in /usr/local/lib/python3.6/dist-packages (from tensorflow==1.6.0) (1.15.0)\n",
            "Requirement already satisfied: astor>=0.6.0 in /usr/local/lib/python3.6/dist-packages (from tensorflow==1.6.0) (0.8.0)\n",
            "Collecting tensorboard<1.7.0,>=1.6.0 (from tensorflow==1.6.0)\n",
            "\u001b[?25l  Downloading https://files.pythonhosted.org/packages/b0/67/a8c91665987d359211dcdca5c8b2a7c1e0876eb0702a4383c1e4ff76228d/tensorboard-1.6.0-py3-none-any.whl (3.0MB)\n",
            "\u001b[K     |████████████████████████████████| 3.1MB 50.2MB/s \n",
            "\u001b[?25hRequirement already satisfied: numpy>=1.13.3 in /usr/local/lib/python3.6/dist-packages (from tensorflow==1.6.0) (1.16.3)\n",
            "Requirement already satisfied: termcolor>=1.1.0 in /usr/local/lib/python3.6/dist-packages (from tensorflow==1.6.0) (1.1.0)\n",
            "Requirement already satisfied: gast>=0.2.0 in /usr/local/lib/python3.6/dist-packages (from tensorflow==1.6.0) (0.2.2)\n",
            "Requirement already satisfied: protobuf>=3.4.0 in /usr/local/lib/python3.6/dist-packages (from tensorflow==1.6.0) (3.7.1)\n",
            "Requirement already satisfied: six>=1.10.0 in /usr/local/lib/python3.6/dist-packages (from tensorflow==1.6.0) (1.12.0)\n",
            "Collecting bleach==1.5.0 (from tensorboard<1.7.0,>=1.6.0->tensorflow==1.6.0)\n",
            "  Downloading https://files.pythonhosted.org/packages/33/70/86c5fec937ea4964184d4d6c4f0b9551564f821e1c3575907639036d9b90/bleach-1.5.0-py2.py3-none-any.whl\n",
            "Requirement already satisfied: werkzeug>=0.11.10 in /usr/local/lib/python3.6/dist-packages (from tensorboard<1.7.0,>=1.6.0->tensorflow==1.6.0) (0.15.4)\n",
            "Requirement already satisfied: markdown>=2.6.8 in /usr/local/lib/python3.6/dist-packages (from tensorboard<1.7.0,>=1.6.0->tensorflow==1.6.0) (3.1.1)\n",
            "Collecting html5lib==0.9999999 (from tensorboard<1.7.0,>=1.6.0->tensorflow==1.6.0)\n",
            "\u001b[?25l  Downloading https://files.pythonhosted.org/packages/ae/ae/bcb60402c60932b32dfaf19bb53870b29eda2cd17551ba5639219fb5ebf9/html5lib-0.9999999.tar.gz (889kB)\n",
            "\u001b[K     |████████████████████████████████| 890kB 33.4MB/s \n",
            "\u001b[?25hRequirement already satisfied: setuptools in /usr/local/lib/python3.6/dist-packages (from protobuf>=3.4.0->tensorflow==1.6.0) (41.0.1)\n",
            "Building wheels for collected packages: html5lib\n",
            "  Building wheel for html5lib (setup.py) ... \u001b[?25l\u001b[?25hdone\n",
            "  Stored in directory: /root/.cache/pip/wheels/50/ae/f9/d2b189788efcf61d1ee0e36045476735c838898eef1cad6e29\n",
            "Successfully built html5lib\n",
            "\u001b[31mERROR: magenta 0.3.19 has requirement tensorflow>=1.12.0, but you'll have tensorflow 1.6.0 which is incompatible.\u001b[0m\n",
            "Installing collected packages: html5lib, bleach, tensorboard, tensorflow\n",
            "  Found existing installation: html5lib 1.0.1\n",
            "    Uninstalling html5lib-1.0.1:\n",
            "      Successfully uninstalled html5lib-1.0.1\n",
            "  Found existing installation: bleach 3.1.0\n",
            "    Uninstalling bleach-3.1.0:\n",
            "      Successfully uninstalled bleach-3.1.0\n",
            "  Found existing installation: tensorboard 1.13.1\n",
            "    Uninstalling tensorboard-1.13.1:\n",
            "      Successfully uninstalled tensorboard-1.13.1\n",
            "  Found existing installation: tensorflow 1.13.1\n",
            "    Uninstalling tensorflow-1.13.1:\n",
            "      Successfully uninstalled tensorflow-1.13.1\n",
            "Successfully installed bleach-1.5.0 html5lib-0.9999999 tensorboard-1.6.0 tensorflow-1.6.0\n"
          ],
          "name": "stdout"
        }
      ]
    },
    {
      "cell_type": "code",
      "metadata": {
        "id": "oDrOy2_N3TkE",
        "colab_type": "code",
        "outputId": "e8f5d5d6-8a94-451c-d63f-1a1e8ca0e26c",
        "colab": {
          "base_uri": "https://localhost:8080/",
          "height": 302
        }
      },
      "source": [
        "!nvidia-smi"
      ],
      "execution_count": 0,
      "outputs": [
        {
          "output_type": "stream",
          "text": [
            "Sat May 25 02:43:11 2019       \n",
            "+-----------------------------------------------------------------------------+\n",
            "| NVIDIA-SMI 418.67       Driver Version: 410.79       CUDA Version: 10.0     |\n",
            "|-------------------------------+----------------------+----------------------+\n",
            "| GPU  Name        Persistence-M| Bus-Id        Disp.A | Volatile Uncorr. ECC |\n",
            "| Fan  Temp  Perf  Pwr:Usage/Cap|         Memory-Usage | GPU-Util  Compute M. |\n",
            "|===============================+======================+======================|\n",
            "|   0  Tesla T4            Off  | 00000000:00:04.0 Off |                    0 |\n",
            "| N/A   37C    P8    15W /  70W |      0MiB / 15079MiB |      0%      Default |\n",
            "+-------------------------------+----------------------+----------------------+\n",
            "                                                                               \n",
            "+-----------------------------------------------------------------------------+\n",
            "| Processes:                                                       GPU Memory |\n",
            "|  GPU       PID   Type   Process name                             Usage      |\n",
            "|=============================================================================|\n",
            "|  No running processes found                                                 |\n",
            "+-----------------------------------------------------------------------------+\n"
          ],
          "name": "stdout"
        }
      ]
    },
    {
      "cell_type": "markdown",
      "metadata": {
        "id": "ejKLT_ZCWa2j",
        "colab_type": "text"
      },
      "source": [
        "为了在colab中使用tensorboard，进行下面的操作"
      ]
    },
    {
      "cell_type": "code",
      "metadata": {
        "id": "Pawao8OeWYYO",
        "colab_type": "code",
        "outputId": "184d7834-0016-45b0-fa7e-53ebfab39a3f",
        "colab": {
          "base_uri": "https://localhost:8080/",
          "height": 118
        }
      },
      "source": [
        "!git clone https://github.com/mixuala/colab_utils.git 'drive/colab_tensorboard_utils/'"
      ],
      "execution_count": 0,
      "outputs": [
        {
          "output_type": "stream",
          "text": [
            "Cloning into 'drive/colab_tensorboard_utils'...\n",
            "remote: Enumerating objects: 243, done.\u001b[K\n",
            "remote: Total 243 (delta 0), reused 0 (delta 0), pack-reused 243\u001b[K\n",
            "Receiving objects: 100% (243/243), 65.93 KiB | 2.35 MiB/s, done.\n",
            "Resolving deltas: 100% (97/97), done.\n",
            "Checking out files: 100% (4/4), done.\n"
          ],
          "name": "stdout"
        }
      ]
    },
    {
      "cell_type": "code",
      "metadata": {
        "id": "Hn_wi4SUZYm2",
        "colab_type": "code",
        "colab": {}
      },
      "source": [
        "!python drive/colab_tensorboard_utils/tboard.py"
      ],
      "execution_count": 0,
      "outputs": []
    },
    {
      "cell_type": "code",
      "metadata": {
        "id": "fSyX4qOudDrT",
        "colab_type": "code",
        "colab": {}
      },
      "source": [
        "!tensorboard --logdir=drive/unsupervisedfmnet/Training/"
      ],
      "execution_count": 0,
      "outputs": []
    },
    {
      "cell_type": "code",
      "metadata": {
        "id": "UKQUcJjGgmaC",
        "colab_type": "code",
        "outputId": "1d12d048-488d-40cd-b29d-1037d79da85b",
        "colab": {
          "base_uri": "https://localhost:8080/",
          "height": 134
        }
      },
      "source": [
        "!ls drive"
      ],
      "execution_count": 0,
      "outputs": [
        {
          "output_type": "stream",
          "text": [
            " DeepFunctionalMaps-master\n",
            " Or_Litany\n",
            " testcode.py\n",
            " test_train_DFMnet_code_2019_5_9.ipynb\n",
            " unsupervisedfmnet\n",
            " Untitled0.ipynb\n",
            "'如何将Colaboratory与google drive关联.odt'\n"
          ],
          "name": "stdout"
        }
      ]
    },
    {
      "cell_type": "code",
      "metadata": {
        "id": "ViUaxSjRf5D6",
        "colab_type": "code",
        "outputId": "8a27f5bd-87df-49c4-9f4e-80fbd39f13af",
        "colab": {
          "base_uri": "https://localhost:8080/",
          "height": 3259
        }
      },
      "source": [
        "!python drive/unsupervisedfmnet/test_DFMnet.py"
      ],
      "execution_count": 0,
      "outputs": [
        {
          "output_type": "stream",
          "text": [
            "2019-05-25 02:45:49.835248: I tensorflow/core/platform/cpu_feature_guard.cc:140] Your CPU supports instructions that this TensorFlow binary was not compiled to use: AVX2 FMA\n",
            "restoring graph...\n",
            "Computed correspondences for pair: 80, 81. Took 8.517273 seconds\n",
            "Computed correspondences for pair: 80, 82. Took 9.015098 seconds\n",
            "Computed correspondences for pair: 80, 83. Took 9.081549 seconds\n",
            "Computed correspondences for pair: 80, 84. Took 8.430187 seconds\n",
            "Computed correspondences for pair: 80, 85. Took 7.631238 seconds\n",
            "Computed correspondences for pair: 80, 86. Took 9.449475 seconds\n",
            "Computed correspondences for pair: 80, 87. Took 8.915804 seconds\n",
            "Computed correspondences for pair: 80, 88. Took 9.448556 seconds\n",
            "Computed correspondences for pair: 80, 89. Took 8.988106 seconds\n",
            "Computed correspondences for pair: 80, 90. Took 10.021141 seconds\n",
            "Computed correspondences for pair: 80, 91. Took 10.956429 seconds\n",
            "Computed correspondences for pair: 80, 92. Took 10.184777 seconds\n",
            "Computed correspondences for pair: 80, 93. Took 10.904534 seconds\n",
            "Computed correspondences for pair: 80, 94. Took 9.759637 seconds\n",
            "Computed correspondences for pair: 80, 95. Took 9.570825 seconds\n",
            "Computed correspondences for pair: 80, 96. Took 10.622130 seconds\n",
            "Computed correspondences for pair: 80, 97. Took 9.629229 seconds\n",
            "Computed correspondences for pair: 80, 98. Took 10.986549 seconds\n",
            "Computed correspondences for pair: 80, 99. Took 10.944583 seconds\n",
            "Computed correspondences for pair: 81, 82. Took 5.894137 seconds\n",
            "Computed correspondences for pair: 81, 83. Took 6.442670 seconds\n",
            "Computed correspondences for pair: 81, 84. Took 5.798242 seconds\n",
            "Computed correspondences for pair: 81, 85. Took 5.864735 seconds\n",
            "Computed correspondences for pair: 81, 86. Took 5.873239 seconds\n",
            "Computed correspondences for pair: 81, 87. Took 5.891849 seconds\n",
            "Computed correspondences for pair: 81, 88. Took 6.347943 seconds\n",
            "Computed correspondences for pair: 81, 89. Took 6.452692 seconds\n",
            "Computed correspondences for pair: 81, 90. Took 6.904399 seconds\n",
            "Computed correspondences for pair: 81, 91. Took 6.787709 seconds\n",
            "Computed correspondences for pair: 81, 92. Took 6.948935 seconds\n",
            "Computed correspondences for pair: 81, 93. Took 7.055185 seconds\n",
            "Computed correspondences for pair: 81, 94. Took 9.921821 seconds\n",
            "Computed correspondences for pair: 81, 95. Took 7.087273 seconds\n",
            "Computed correspondences for pair: 81, 96. Took 7.535490 seconds\n",
            "Computed correspondences for pair: 81, 97. Took 9.255359 seconds\n",
            "Computed correspondences for pair: 81, 98. Took 7.175238 seconds\n",
            "Computed correspondences for pair: 81, 99. Took 7.156597 seconds\n",
            "Computed correspondences for pair: 82, 83. Took 7.976567 seconds\n",
            "Computed correspondences for pair: 82, 84. Took 5.295909 seconds\n",
            "Computed correspondences for pair: 82, 85. Took 4.539027 seconds\n",
            "Computed correspondences for pair: 82, 86. Took 5.823817 seconds\n",
            "Computed correspondences for pair: 82, 87. Took 6.047764 seconds\n",
            "Computed correspondences for pair: 82, 88. Took 6.113468 seconds\n",
            "Computed correspondences for pair: 82, 89. Took 5.516555 seconds\n",
            "Computed correspondences for pair: 82, 90. Took 6.995444 seconds\n",
            "Computed correspondences for pair: 82, 91. Took 6.964709 seconds\n",
            "Computed correspondences for pair: 82, 92. Took 6.717986 seconds\n",
            "Computed correspondences for pair: 82, 93. Took 6.964226 seconds\n",
            "Computed correspondences for pair: 82, 94. Took 7.965336 seconds\n",
            "Computed correspondences for pair: 82, 95. Took 6.885261 seconds\n",
            "Computed correspondences for pair: 82, 96. Took 8.293015 seconds\n",
            "Computed correspondences for pair: 82, 97. Took 8.204134 seconds\n",
            "Computed correspondences for pair: 82, 98. Took 7.037306 seconds\n",
            "Computed correspondences for pair: 82, 99. Took 7.078813 seconds\n",
            "Computed correspondences for pair: 83, 84. Took 6.225762 seconds\n",
            "Computed correspondences for pair: 83, 85. Took 5.897622 seconds\n",
            "Computed correspondences for pair: 83, 86. Took 5.285854 seconds\n",
            "Computed correspondences for pair: 83, 87. Took 6.128288 seconds\n",
            "Computed correspondences for pair: 83, 88. Took 6.492261 seconds\n",
            "Computed correspondences for pair: 83, 89. Took 6.420684 seconds\n",
            "Computed correspondences for pair: 83, 90. Took 7.110568 seconds\n",
            "Computed correspondences for pair: 83, 91. Took 6.965102 seconds\n",
            "Computed correspondences for pair: 83, 92. Took 6.966930 seconds\n",
            "Computed correspondences for pair: 83, 93. Took 6.873605 seconds\n",
            "Computed correspondences for pair: 83, 94. Took 9.650281 seconds\n",
            "Computed correspondences for pair: 83, 95. Took 7.027683 seconds\n",
            "Computed correspondences for pair: 83, 96. Took 6.829638 seconds\n",
            "Computed correspondences for pair: 83, 97. Took 9.948107 seconds\n",
            "Computed correspondences for pair: 83, 98. Took 7.170848 seconds\n",
            "Computed correspondences for pair: 83, 99. Took 7.156312 seconds\n",
            "Computed correspondences for pair: 84, 85. Took 5.038659 seconds\n",
            "Computed correspondences for pair: 84, 86. Took 6.523196 seconds\n",
            "Computed correspondences for pair: 84, 87. Took 5.970547 seconds\n",
            "Computed correspondences for pair: 84, 88. Took 6.143769 seconds\n",
            "Computed correspondences for pair: 84, 89. Took 6.017878 seconds\n",
            "Computed correspondences for pair: 84, 90. Took 7.471607 seconds\n",
            "Computed correspondences for pair: 84, 91. Took 7.370024 seconds\n",
            "Computed correspondences for pair: 84, 92. Took 6.980076 seconds\n",
            "Computed correspondences for pair: 84, 93. Took 7.032398 seconds\n",
            "Computed correspondences for pair: 84, 94. Took 7.988199 seconds\n",
            "Computed correspondences for pair: 84, 95. Took 7.016017 seconds\n",
            "Computed correspondences for pair: 84, 96. Took 7.074749 seconds\n",
            "Computed correspondences for pair: 84, 97. Took 8.667874 seconds\n",
            "Computed correspondences for pair: 84, 98. Took 7.646769 seconds\n",
            "Computed correspondences for pair: 84, 99. Took 7.301679 seconds\n",
            "Computed correspondences for pair: 85, 86. Took 6.159292 seconds\n",
            "Computed correspondences for pair: 85, 87. Took 6.064375 seconds\n",
            "Computed correspondences for pair: 85, 88. Took 5.279626 seconds\n",
            "Computed correspondences for pair: 85, 89. Took 5.470712 seconds\n",
            "Computed correspondences for pair: 85, 90. Took 6.693501 seconds\n",
            "Computed correspondences for pair: 85, 91. Took 7.538320 seconds\n",
            "Computed correspondences for pair: 85, 92. Took 6.524192 seconds\n",
            "Computed correspondences for pair: 85, 93. Took 7.648139 seconds\n",
            "Computed correspondences for pair: 85, 94. Took 8.555873 seconds\n",
            "Computed correspondences for pair: 85, 95. Took 7.002288 seconds\n",
            "Computed correspondences for pair: 85, 96. Took 7.224010 seconds\n",
            "Computed correspondences for pair: 85, 97. Took 7.902639 seconds\n",
            "Computed correspondences for pair: 85, 98. Took 6.648715 seconds\n",
            "Computed correspondences for pair: 85, 99. Took 6.995331 seconds\n",
            "Computed correspondences for pair: 86, 87. Took 6.727667 seconds\n",
            "Computed correspondences for pair: 86, 88. Took 6.719320 seconds\n",
            "Computed correspondences for pair: 86, 89. Took 6.006969 seconds\n",
            "Computed correspondences for pair: 86, 90. Took 7.874791 seconds\n",
            "Computed correspondences for pair: 86, 91. Took 6.969073 seconds\n",
            "Computed correspondences for pair: 86, 92. Took 7.064088 seconds\n",
            "Computed correspondences for pair: 86, 93. Took 6.702749 seconds\n",
            "Computed correspondences for pair: 86, 94. Took 8.238806 seconds\n",
            "Computed correspondences for pair: 86, 95. Took 7.376145 seconds\n",
            "Computed correspondences for pair: 86, 96. Took 8.176701 seconds\n",
            "Computed correspondences for pair: 86, 97. Took 8.295445 seconds\n",
            "Computed correspondences for pair: 86, 98. Took 7.073779 seconds\n",
            "Computed correspondences for pair: 86, 99. Took 6.985569 seconds\n",
            "Computed correspondences for pair: 87, 88. Took 6.433377 seconds\n",
            "Computed correspondences for pair: 87, 89. Took 5.850157 seconds\n",
            "Computed correspondences for pair: 87, 90. Took 7.166333 seconds\n",
            "Computed correspondences for pair: 87, 91. Took 7.064261 seconds\n",
            "Computed correspondences for pair: 87, 92. Took 7.319823 seconds\n",
            "Computed correspondences for pair: 87, 93. Took 7.233654 seconds\n",
            "Computed correspondences for pair: 87, 94. Took 8.301428 seconds\n",
            "Computed correspondences for pair: 87, 95. Took 6.902941 seconds\n",
            "Computed correspondences for pair: 87, 96. Took 7.303540 seconds\n",
            "Computed correspondences for pair: 87, 97. Took 8.350749 seconds\n",
            "Computed correspondences for pair: 87, 98. Took 7.125803 seconds\n",
            "Computed correspondences for pair: 87, 99. Took 7.037523 seconds\n",
            "Computed correspondences for pair: 88, 89. Took 6.268688 seconds\n",
            "Computed correspondences for pair: 88, 90. Took 7.200613 seconds\n",
            "Computed correspondences for pair: 88, 91. Took 6.820872 seconds\n",
            "Computed correspondences for pair: 88, 92. Took 7.452759 seconds\n",
            "Computed correspondences for pair: 88, 93. Took 6.817538 seconds\n",
            "Computed correspondences for pair: 88, 94. Took 7.927864 seconds\n",
            "Computed correspondences for pair: 88, 95. Took 7.058140 seconds\n",
            "Computed correspondences for pair: 88, 96. Took 7.003825 seconds\n",
            "Computed correspondences for pair: 88, 97. Took 9.014275 seconds\n",
            "Computed correspondences for pair: 88, 98. Took 7.706162 seconds\n",
            "Computed correspondences for pair: 88, 99. Took 6.978644 seconds\n",
            "Computed correspondences for pair: 89, 90. Took 7.135363 seconds\n",
            "Computed correspondences for pair: 89, 91. Took 6.973522 seconds\n",
            "Computed correspondences for pair: 89, 92. Took 6.994973 seconds\n",
            "Computed correspondences for pair: 89, 93. Took 7.092863 seconds\n",
            "Computed correspondences for pair: 89, 94. Took 8.927737 seconds\n",
            "Computed correspondences for pair: 89, 95. Took 7.316386 seconds\n",
            "Computed correspondences for pair: 89, 96. Took 7.516572 seconds\n",
            "Computed correspondences for pair: 89, 97. Took 7.861327 seconds\n",
            "Computed correspondences for pair: 89, 98. Took 7.033471 seconds\n",
            "Computed correspondences for pair: 89, 99. Took 7.468233 seconds\n",
            "Computed correspondences for pair: 90, 91. Took 5.227313 seconds\n",
            "Computed correspondences for pair: 90, 92. Took 5.783933 seconds\n",
            "Computed correspondences for pair: 90, 93. Took 5.738817 seconds\n",
            "Computed correspondences for pair: 90, 94. Took 6.015772 seconds\n",
            "Computed correspondences for pair: 90, 95. Took 5.187337 seconds\n",
            "Computed correspondences for pair: 90, 96. Took 6.037801 seconds\n",
            "Computed correspondences for pair: 90, 97. Took 7.316321 seconds\n",
            "Computed correspondences for pair: 90, 98. Took 10.380361 seconds\n",
            "Computed correspondences for pair: 90, 99. Took 9.181664 seconds\n",
            "Computed correspondences for pair: 91, 92. Took 8.198183 seconds\n",
            "Computed correspondences for pair: 91, 93. Took 7.890110 seconds\n",
            "Computed correspondences for pair: 91, 94. Took 7.306808 seconds\n",
            "Computed correspondences for pair: 91, 95. Took 8.995445 seconds\n",
            "Computed correspondences for pair: 91, 96. Took 7.874540 seconds\n",
            "Computed correspondences for pair: 91, 97. Took 8.360198 seconds\n",
            "Computed correspondences for pair: 91, 98. Took 6.914784 seconds\n",
            "Computed correspondences for pair: 91, 99. Took 6.511313 seconds\n",
            "Computed correspondences for pair: 92, 93. Took 6.142234 seconds\n",
            "Computed correspondences for pair: 92, 94. Took 6.278937 seconds\n",
            "Computed correspondences for pair: 92, 95. Took 5.685047 seconds\n",
            "Computed correspondences for pair: 92, 96. Took 6.527294 seconds\n",
            "Computed correspondences for pair: 92, 97. Took 7.812146 seconds\n",
            "Computed correspondences for pair: 92, 98. Took 5.892236 seconds\n",
            "Computed correspondences for pair: 92, 99. Took 6.187721 seconds\n",
            "Computed correspondences for pair: 93, 94. Took 8.593600 seconds\n",
            "Computed correspondences for pair: 93, 95. Took 6.695775 seconds\n",
            "Computed correspondences for pair: 93, 96. Took 5.350188 seconds\n",
            "Computed correspondences for pair: 93, 97. Took 7.524446 seconds\n",
            "Computed correspondences for pair: 93, 98. Took 6.178761 seconds\n",
            "Computed correspondences for pair: 93, 99. Took 6.773406 seconds\n",
            "Computed correspondences for pair: 94, 95. Took 6.121618 seconds\n",
            "Computed correspondences for pair: 94, 96. Took 6.628181 seconds\n",
            "Computed correspondences for pair: 94, 97. Took 7.580982 seconds\n",
            "Computed correspondences for pair: 94, 98. Took 5.915302 seconds\n",
            "Computed correspondences for pair: 94, 99. Took 6.710074 seconds\n",
            "Computed correspondences for pair: 95, 96. Took 6.161954 seconds\n",
            "Computed correspondences for pair: 95, 97. Took 6.574599 seconds\n",
            "Computed correspondences for pair: 95, 98. Took 6.450521 seconds\n",
            "Computed correspondences for pair: 95, 99. Took 6.503587 seconds\n",
            "Computed correspondences for pair: 96, 97. Took 6.538157 seconds\n",
            "Computed correspondences for pair: 96, 98. Took 6.777449 seconds\n",
            "Computed correspondences for pair: 96, 99. Took 6.461197 seconds\n",
            "Computed correspondences for pair: 97, 98. Took 6.639376 seconds\n",
            "Computed correspondences for pair: 97, 99. Took 6.061958 seconds\n",
            "Computed correspondences for pair: 98, 99. Took 6.538873 seconds\n",
            "--- 1917.0537774562836 seconds ---\n"
          ],
          "name": "stdout"
        }
      ]
    },
    {
      "cell_type": "code",
      "metadata": {
        "id": "p85gWkwPeNyo",
        "colab_type": "code",
        "outputId": "6213a9f0-3c7b-46c4-b1cd-383e2103acb2",
        "colab": {
          "base_uri": "https://localhost:8080/",
          "height": 84
        }
      },
      "source": [
        "\n",
        "import tensorflow as tf\n",
        " \n",
        "a=tf.constant([1,2,3],dtype=tf.float32)\n",
        "b=tf.constant([[1,1],[2,2],[3,3]],dtype=tf.float32)\n",
        " \n",
        "with tf.Session() as sess:\n",
        "    print('a:')\n",
        "    print(sess.run(tf.nn.l2_loss(a)))\n",
        "    print('b:')\n",
        "    print(sess.run(tf.nn.l2_loss(b)))\n",
        "    sess.close()\n"
      ],
      "execution_count": 0,
      "outputs": [
        {
          "output_type": "stream",
          "text": [
            "a:\n",
            "7.0\n",
            "b:\n",
            "14.0\n"
          ],
          "name": "stdout"
        }
      ]
    },
    {
      "cell_type": "code",
      "metadata": {
        "id": "DZSZBNzTTteX",
        "colab_type": "code",
        "colab": {}
      },
      "source": [
        ""
      ],
      "execution_count": 0,
      "outputs": []
    },
    {
      "cell_type": "code",
      "metadata": {
        "id": "0IeCvlnaUhpj",
        "colab_type": "code",
        "outputId": "988eaa6a-a47f-40c1-ca4d-19db485fbd57",
        "colab": {
          "base_uri": "https://localhost:8080/",
          "height": 269
        }
      },
      "source": [
        "# 你可以更改目录名\n",
        "LOG_DIR = 'drive/tb_logs1/'\n",
        "\n",
        "!wget https://bin.equinox.io/c/4VmDzA7iaHb/ngrok-stable-linux-amd64.zip\n",
        "!unzip ngrok-stable-linux-amd64.zip\n",
        "\n",
        "import os\n",
        "if not os.path.exists(LOG_DIR):\n",
        "  os.makedirs(LOG_DIR)\n",
        "  \n",
        "get_ipython().system_raw(\n",
        "    'tensorboard --logdir {} --host 0.0.0.0 --port 6006 &'\n",
        "    .format(LOG_DIR))\n",
        "\n",
        "get_ipython().system_raw('./ngrok http 6006 &')\n",
        "\n",
        "!curl -s http://localhost:4040/api/tunnels | python3 -c \\\n",
        "    \"import sys, json; print(json.load(sys.stdin)['tunnels'][0]['public_url'])\"\n"
      ],
      "execution_count": 0,
      "outputs": [
        {
          "output_type": "stream",
          "text": [
            "--2019-05-25 14:50:55--  https://bin.equinox.io/c/4VmDzA7iaHb/ngrok-stable-linux-amd64.zip\n",
            "Resolving bin.equinox.io (bin.equinox.io)... 52.72.145.109, 52.203.53.176, 52.200.123.104, ...\n",
            "Connecting to bin.equinox.io (bin.equinox.io)|52.72.145.109|:443... connected.\n",
            "HTTP request sent, awaiting response... 200 OK\n",
            "Length: 16648024 (16M) [application/octet-stream]\n",
            "Saving to: ‘ngrok-stable-linux-amd64.zip.3’\n",
            "\n",
            "ngrok-stable-linux- 100%[===================>]  15.88M  8.68MB/s    in 1.8s    \n",
            "\n",
            "2019-05-25 14:50:57 (8.68 MB/s) - ‘ngrok-stable-linux-amd64.zip.3’ saved [16648024/16648024]\n",
            "\n",
            "Archive:  ngrok-stable-linux-amd64.zip\n",
            "replace ngrok? [y]es, [n]o, [A]ll, [N]one, [r]ename: y\n",
            "  inflating: ngrok                   \n",
            "http://a2504ef3.ngrok.io\n"
          ],
          "name": "stdout"
        }
      ]
    },
    {
      "cell_type": "code",
      "metadata": {
        "id": "PXr0MCeOf1zm",
        "colab_type": "code",
        "colab": {}
      },
      "source": [
        ""
      ],
      "execution_count": 0,
      "outputs": []
    },
    {
      "cell_type": "markdown",
      "metadata": {
        "id": "LNj-tOmff4C7",
        "colab_type": "text"
      },
      "source": [
        "\n",
        "这个代码跟tensorboard可视化没有关系，主要依靠上面的代码\n"
      ]
    },
    {
      "cell_type": "code",
      "metadata": {
        "id": "Z1bZ7dOLcqbu",
        "colab_type": "code",
        "outputId": "4fc0bc63-80a1-4694-e70a-28c3d3c6245d",
        "colab": {
          "base_uri": "https://localhost:8080/",
          "height": 238
        }
      },
      "source": [
        "!tensorboard --logdir=drive/unsupervisedfmnet/Training/"
      ],
      "execution_count": 0,
      "outputs": [
        {
          "output_type": "stream",
          "text": [
            "TensorBoard 1.13.1 at http://4ce0b2ea6961:6007 (Press CTRL+C to quit)\n",
            "W0525 14:49:08.403079 139705339586304 plugin_event_accumulator.py:294] Found more than one graph event per run, or there was a metagraph containing a graph_def, as well as one or more graph events.  Overwriting the graph with the newest event.\n",
            "W0525 14:49:08.408112 139705339586304 plugin_event_accumulator.py:302] Found more than one metagraph event per run. Overwriting the metagraph with the newest event.\n",
            "W0525 14:49:08.411917 139705339586304 plugin_event_accumulator.py:557] Detected out of order event.step likely caused by a TensorFlow restart. Purging 8 expired tensor events from Tensorboard display between the previous step: 5000 (timestamp: 1557742958.87) and current step: 5000 (timestamp: 1557743020.78).\n",
            "W0525 14:49:14.263262 139705339586304 plugin_event_accumulator.py:294] Found more than one graph event per run, or there was a metagraph containing a graph_def, as well as one or more graph events.  Overwriting the graph with the newest event.\n",
            "W0525 14:49:14.266525 139705339586304 plugin_event_accumulator.py:302] Found more than one metagraph event per run. Overwriting the metagraph with the newest event.\n",
            "W0525 14:49:14.270239 139705339586304 plugin_event_accumulator.py:557] Detected out of order event.step likely caused by a TensorFlow restart. Purging 8 expired tensor events from Tensorboard display between the previous step: 10000 (timestamp: 1557751898.37) and current step: 10000 (timestamp: 1557752213.71).\n",
            "W0525 14:49:23.279593 139705339586304 plugin_event_accumulator.py:294] Found more than one graph event per run, or there was a metagraph containing a graph_def, as well as one or more graph events.  Overwriting the graph with the newest event.\n",
            "W0525 14:49:23.283209 139705339586304 plugin_event_accumulator.py:302] Found more than one metagraph event per run. Overwriting the metagraph with the newest event.\n",
            "W0525 14:49:23.286942 139705339586304 plugin_event_accumulator.py:557] Detected out of order event.step likely caused by a TensorFlow restart. Purging 8 expired tensor events from Tensorboard display between the previous step: 15000 (timestamp: 1557756831.86) and current step: 15000 (timestamp: 1558707809.87).\n",
            "W0525 14:49:36.683199 139705339586304 plugin_event_accumulator.py:294] Found more than one graph event per run, or there was a metagraph containing a graph_def, as well as one or more graph events.  Overwriting the graph with the newest event.\n",
            "W0525 14:49:36.684312 139705339586304 plugin_event_accumulator.py:302] Found more than one metagraph event per run. Overwriting the metagraph with the newest event.\n"
          ],
          "name": "stdout"
        }
      ]
    }
  ]
}